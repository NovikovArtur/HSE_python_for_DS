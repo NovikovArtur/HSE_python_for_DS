{
  "nbformat": 4,
  "nbformat_minor": 0,
  "metadata": {
    "colab": {
      "provenance": []
    },
    "kernelspec": {
      "name": "python3",
      "display_name": "Python 3"
    },
    "language_info": {
      "name": "python"
    }
  },
  "cells": [
    {
      "cell_type": "markdown",
      "source": [
        "**Домашнее задание 1**"
      ],
      "metadata": {
        "id": "4RcLSNBEe4ZJ"
      }
    },
    {
      "cell_type": "markdown",
      "source": [
        "Решите предложенные задания с использованием модуля NumPy. Использование условий и циклов крайне нежелательно (списковые включения это тоже цикл!), за это будут снижаться баллы.\n",
        "Все задания равноценны. В каждой задаче постарайтесь придумать несколько решений. В задачах, где обязательно необходимо предложить хотя бы два решения, об этом написано. Решением должен быть Jupyter notebook / ссылка на Colab"
      ],
      "metadata": {
        "id": "pztkxtkhe9EO"
      }
    },
    {
      "cell_type": "markdown",
      "source": [
        "Под массивом (если не указано иное), понимается одномерный массив. Для большей части задач не указан размер массива. Это значит, что код должен работать корректно для любого размера массива"
      ],
      "metadata": {
        "id": "xAB-US-cfH9k"
      }
    },
    {
      "cell_type": "markdown",
      "source": [
        "1. Создайте массив 3x3, состоящий из True. Напишите минимум два варианта решения\n"
      ],
      "metadata": {
        "id": "UI0rE3Sqe_t1"
      }
    },
    {
      "cell_type": "code",
      "execution_count": null,
      "metadata": {
        "id": "o9o5if-Ze1pV",
        "colab": {
          "base_uri": "https://localhost:8080/"
        },
        "outputId": "bc1a5c39-a34b-4089-8d4b-a15046422491"
      },
      "outputs": [
        {
          "output_type": "stream",
          "name": "stdout",
          "text": [
            "[[ True  True  True]\n",
            " [ True  True  True]\n",
            " [ True  True  True]]\n",
            "[[ True  True  True]\n",
            " [ True  True  True]\n",
            " [ True  True  True]]\n"
          ]
        }
      ],
      "source": [
        "import numpy as np\n",
        "\n",
        "print(np.array([[True, True, True], [True, True, True], [True, True, True]]))   #1 способ\n",
        "\n",
        "A = np.full((3, 3), True)\n",
        "print(A)                                                    #2 способ"
      ]
    },
    {
      "cell_type": "markdown",
      "source": [
        "2. Замените в массиве все нечетные положительные числа на -1"
      ],
      "metadata": {
        "id": "hYpMLg6Jffy_"
      }
    },
    {
      "cell_type": "code",
      "execution_count": null,
      "metadata": {
        "id": "2k2fOOoGffy_",
        "colab": {
          "base_uri": "https://localhost:8080/"
        },
        "outputId": "6ee0899a-df17-4899-8f38-c1ef823861b7"
      },
      "outputs": [
        {
          "output_type": "stream",
          "name": "stdout",
          "text": [
            "3 3\n",
            "[[ 6  1  1]\n",
            " [ 9 -7 -8]\n",
            " [ 4  9 -2]]\n",
            "[[ 6 -1 -1]\n",
            " [-1 -7 -8]\n",
            " [ 4 -1 -2]]\n"
          ]
        }
      ],
      "source": [
        "x, y = map(int, input().split())                      #вводим необходимый размер массива\n",
        "B = np.random.randint(-10, 10, (x, y))                #заполняем массив размера x * y рандомными числами от -10 до 10\n",
        "print(B)\n",
        "\n",
        "B[(B > 0) & (B % 2 == 1)] = -1                        #выполняем замену по условию\n",
        "print(B)"
      ]
    },
    {
      "cell_type": "markdown",
      "source": [
        "3. Найдите все числа, встречающиеся в 1 и 2 массивах"
      ],
      "metadata": {
        "id": "xLDIzCXSfgUS"
      }
    },
    {
      "cell_type": "code",
      "execution_count": null,
      "metadata": {
        "id": "pqW7K14QfgUS",
        "colab": {
          "base_uri": "https://localhost:8080/"
        },
        "outputId": "c5142c2e-27bd-44c8-ebda-f57965c8ec8e"
      },
      "outputs": [
        {
          "output_type": "stream",
          "name": "stdout",
          "text": [
            "[]\n"
          ]
        }
      ],
      "source": [
        "print(np.intersect1d(A, B))"
      ]
    },
    {
      "cell_type": "markdown",
      "source": [
        "4. Дана функция maxx, работающая с двумя числами. Напишите обертку над ней, которая будет работать с двумя np.array (одинакового размера) и будет применять функцию maxx поэлементно (вместо maxx может быть любая другая кастомная функция)\n",
        "\n",
        "\n",
        "```\n",
        "def maxx(x, y):\n",
        "\t    return x if x >= y else y\n",
        "```\n",
        "\n",
        "\n"
      ],
      "metadata": {
        "id": "7NGZzKYjfga_"
      }
    },
    {
      "cell_type": "code",
      "execution_count": null,
      "metadata": {
        "id": "kp95R4sCfga_",
        "colab": {
          "base_uri": "https://localhost:8080/"
        },
        "outputId": "e4eabc3a-b9bd-4710-8ba5-84279456e940"
      },
      "outputs": [
        {
          "output_type": "stream",
          "name": "stdout",
          "text": [
            "[-1 -6 -2  1 -4  2  4  7  3 -2]\n",
            "[-4  8 -2  1 -1 -8  6  3  5  8]\n",
            "[-1.  8. -2.  1. -1.  2.  6.  7.  5.  8.]\n"
          ]
        }
      ],
      "source": [
        "def maxx(x, y):\n",
        "  return x if x >= y else y\n",
        "\n",
        "A = np.random.randint(-10, 10, size = 10)\n",
        "B = np.random.randint(-10, 10, size = 10)\n",
        "C = []\n",
        "\n",
        "for i in range(len(A)):\n",
        "  C = np.append(C, maxx(A[i], B[i]))\n",
        "\n",
        "print(A)\n",
        "print(B)\n",
        "print(C)"
      ]
    },
    {
      "cell_type": "markdown",
      "source": [
        "5. Дана матрица 3х3. Поменяйте местами 1 и 2 столбцы матрицы."
      ],
      "metadata": {
        "id": "vtDaIJJvfgfV"
      }
    },
    {
      "cell_type": "code",
      "execution_count": null,
      "metadata": {
        "id": "GBCy-u0zfgfV",
        "colab": {
          "base_uri": "https://localhost:8080/"
        },
        "outputId": "6b8cb895-3025-4da1-9758-07a9319f3741"
      },
      "outputs": [
        {
          "output_type": "stream",
          "name": "stdout",
          "text": [
            "[[6 3 3 ... 8 9 3]\n",
            " [4 3 2 ... 9 4 6]\n",
            " [4 1 2 ... 8 6 8]\n",
            " ...\n",
            " [4 5 4 ... 3 9 8]\n",
            " [1 6 4 ... 1 5 4]\n",
            " [5 5 9 ... 1 6 7]]\n",
            "[[6 3 3 ... 8 9 3]\n",
            " [4 2 3 ... 9 4 6]\n",
            " [4 2 1 ... 8 6 8]\n",
            " ...\n",
            " [4 4 5 ... 3 9 8]\n",
            " [1 4 6 ... 1 5 4]\n",
            " [5 9 5 ... 1 6 7]]\n"
          ]
        }
      ],
      "source": [
        "A = np.random.randint(1, 10, (10, 10))\n",
        "print(A)\n",
        "A[:, [2, 1]] = A[:, [1, 2]]\n",
        "print(A)"
      ]
    },
    {
      "cell_type": "markdown",
      "source": [
        "6. Поменяйте опции (```np.set_printoptions```), чтобы при выводе numpy.array отображалось не более 6 элементов"
      ],
      "metadata": {
        "id": "Oj9ydDJLfgnR"
      }
    },
    {
      "cell_type": "code",
      "execution_count": null,
      "metadata": {
        "id": "Y-2HJiwgfgnR",
        "colab": {
          "base_uri": "https://localhost:8080/"
        },
        "outputId": "a6cb9c88-c5a7-43f3-bbbc-8c1784952b1b"
      },
      "outputs": [
        {
          "output_type": "execute_result",
          "data": {
            "text/plain": [
              "array([[6, 3, 3, ..., 8, 9, 3],\n",
              "       [4, 2, 3, ..., 9, 4, 6],\n",
              "       [4, 2, 1, ..., 8, 6, 8],\n",
              "       ...,\n",
              "       [4, 4, 5, ..., 3, 9, 8],\n",
              "       [1, 4, 6, ..., 1, 5, 4],\n",
              "       [5, 9, 5, ..., 1, 6, 7]])"
            ]
          },
          "metadata": {},
          "execution_count": 34
        }
      ],
      "source": [
        "np.set_printoptions(threshold = 6)\n",
        "np.array(A)"
      ]
    },
    {
      "cell_type": "markdown",
      "source": [
        "7. В данном массиве замените все числа, меньшие 0 на 0, а большие 255 на 255. Напишите минимум два варианта решения"
      ],
      "metadata": {
        "id": "K66Xk-IGfgo4"
      }
    },
    {
      "cell_type": "code",
      "execution_count": null,
      "metadata": {
        "id": "yfUBo1Lqfgo4",
        "colab": {
          "base_uri": "https://localhost:8080/"
        },
        "outputId": "db6f31e2-3467-4e2f-9287-5705e3cd11eb"
      },
      "outputs": [
        {
          "output_type": "stream",
          "name": "stdout",
          "text": [
            "[[  10 -790  839]\n",
            " [-932  830  724]\n",
            " [-883 -795 -508]]\n",
            "[[ 10   0 255]\n",
            " [  0 255 255]\n",
            " [  0   0   0]]\n"
          ]
        }
      ],
      "source": [
        "A = np.random.randint(-1000, 1000, (3, 3))\n",
        "print(A)\n",
        "A[(A < 0)] = 0            #1 способ\n",
        "A[(A > 255)] = 255\n",
        "\n",
        "np.clip(A, 0, 255)        #2 способ\n",
        "\n",
        "print(A)"
      ]
    },
    {
      "cell_type": "markdown",
      "source": [
        "8. Выведите позиции топ-5 максимальных элементов в массиве. Попробуйте решить задачу за линейную сложность относительно числа элементов"
      ],
      "metadata": {
        "id": "IUgt2Rqsfgqp"
      }
    },
    {
      "cell_type": "code",
      "execution_count": null,
      "metadata": {
        "id": "RUvuwMT_fgqq",
        "colab": {
          "base_uri": "https://localhost:8080/"
        },
        "outputId": "e46d2c22-7045-45da-aeb9-e12ba7926181"
      },
      "outputs": [
        {
          "output_type": "stream",
          "name": "stdout",
          "text": [
            "[ 2 -8  3 -4  3 -2  2  4 -6 -9]\n",
            "7 4 2 6 0\n"
          ]
        }
      ],
      "source": [
        "np.set_printoptions(threshold = 100)\n",
        "\n",
        "D = np.random.randint(-10, 10, size=10)\n",
        "\n",
        "print(D)\n",
        "\n",
        "print(*D.argsort()[:4:-1])"
      ]
    },
    {
      "cell_type": "markdown",
      "source": [
        "9. Преобразуйте массив массивов в одномерный массив."
      ],
      "metadata": {
        "id": "8x_79zGzfgtQ"
      }
    },
    {
      "cell_type": "code",
      "execution_count": null,
      "metadata": {
        "id": "4AhgBCO8fgtQ",
        "colab": {
          "base_uri": "https://localhost:8080/"
        },
        "outputId": "e8704cb0-fe39-4415-a6fc-bbbad980faf2"
      },
      "outputs": [
        {
          "output_type": "stream",
          "name": "stdout",
          "text": [
            "[[0 8 7]\n",
            " [1 6 5]\n",
            " [8 0 4]]\n",
            "[0 8 7 1 6 5 8 0 4]\n"
          ]
        }
      ],
      "source": [
        "A = np.random.randint(-10, 10, [3, 3])\n",
        "print(A)\n",
        "print(A.ravel())"
      ]
    },
    {
      "cell_type": "markdown",
      "source": [
        "10. Найдите максимум в каждой строке двумерного массива"
      ],
      "metadata": {
        "id": "sD2_1iRcfguc"
      }
    },
    {
      "cell_type": "code",
      "execution_count": null,
      "metadata": {
        "id": "8vwGhIiYfgud",
        "colab": {
          "base_uri": "https://localhost:8080/"
        },
        "outputId": "90a343b3-2f72-4b12-b625-a6e47e0841a4"
      },
      "outputs": [
        {
          "output_type": "stream",
          "name": "stdout",
          "text": [
            "[[ 7  0 -2]\n",
            " [-1  6  1]\n",
            " [-3  4  5]]\n",
            "[7 6 5]\n"
          ]
        }
      ],
      "source": [
        "A = np.random.randint(-10, 10, [3, 3])\n",
        "print(A)\n",
        "print(np.max(A, axis=1))"
      ]
    },
    {
      "cell_type": "markdown",
      "source": [
        "11. Удалите все np.nan из массива"
      ],
      "metadata": {
        "id": "FhpQUM-efgwp"
      }
    },
    {
      "cell_type": "code",
      "execution_count": null,
      "metadata": {
        "id": "t1kEcIdhfgwp",
        "colab": {
          "base_uri": "https://localhost:8080/"
        },
        "outputId": "4331aa39-b6e9-4c8d-e7fc-6bced4ff170b"
      },
      "outputs": [
        {
          "output_type": "stream",
          "name": "stdout",
          "text": [
            "[[ 1. nan  2.]\n",
            " [nan  3. nan]\n",
            " [ 4. nan  5.]]\n",
            "[1. 2. 3. 4. 5.]\n"
          ]
        }
      ],
      "source": [
        "A = np.array([[1, np.nan, 2], [np.nan, 3, np.nan], [4, np.nan, 5]])\n",
        "print(A)\n",
        "\n",
        "print(A[np.isnan(A) == False])"
      ]
    },
    {
      "cell_type": "markdown",
      "source": [
        "12. Найдите индекс пятого повторения числа 1 в массиве (считаем, что в массиве есть хотя бы пять единиц)"
      ],
      "metadata": {
        "id": "C_uo6hVEfgx7"
      }
    },
    {
      "cell_type": "code",
      "execution_count": null,
      "metadata": {
        "id": "lZLVAWMRfgx7",
        "colab": {
          "base_uri": "https://localhost:8080/"
        },
        "outputId": "b9dafc05-d9c2-44c6-8dca-e6e1389b0f35"
      },
      "outputs": [
        {
          "output_type": "stream",
          "name": "stdout",
          "text": [
            "7\n"
          ]
        }
      ],
      "source": [
        "A = np.array([1, 1, 2, 1, 3, 1, 4, 1, 5])\n",
        "print(np.where(A == 1)[0][4])"
      ]
    },
    {
      "cell_type": "markdown",
      "source": [
        "13. В квадратной матрице 5х5 из нулей получить ромб из 1, который касается середин сторон квадрата. Решите задачу как для полного ромба (внутри все 1), так и для полого (1 по границе, внутри 0):\n",
        "\n",
        "```\n",
        "полный           полый\n",
        "0 0 1 0 0       0 0 1 0 0\n",
        "0 1 1 1 0       0 1 0 1 0\n",
        "1 1 1 1 1       1 0 0 0 1\n",
        "0 1 1 1 0       0 1 0 1 0\n",
        "0 0 1 0 0       0 0 1 0 0\n",
        "```"
      ],
      "metadata": {
        "id": "KTVoVn6dfg0z"
      }
    },
    {
      "cell_type": "code",
      "execution_count": null,
      "metadata": {
        "id": "n6E9G7LYfg00",
        "colab": {
          "base_uri": "https://localhost:8080/"
        },
        "outputId": "434d49a1-f4de-47db-cde5-9b93d9c24c30"
      },
      "outputs": [
        {
          "output_type": "stream",
          "name": "stdout",
          "text": [
            "[[0 0 1 0 0]\n",
            " [0 1 1 1 0]\n",
            " [1 1 1 1 1]\n",
            " [0 1 1 1 0]\n",
            " [0 0 1 0 0]]\n",
            "[[0 0 1 0 0]\n",
            " [0 1 0 1 0]\n",
            " [1 0 0 0 1]\n",
            " [0 1 0 1 0]\n",
            " [0 0 1 0 0]]\n"
          ]
        }
      ],
      "source": [
        "A = np.array([[0] * 5] * 5)\n",
        "B = np.array([[0] * 5] * 5)\n",
        "for i in range(5):\n",
        "  for j in range(5):\n",
        "    if i == 2 or ((i == 1 or i == 3) and (j < 4 and j > 0)) or ((i == 0 or i == 4) and (j == 2)): #рисуем полный ромб\n",
        "      A[i][j] = 1\n",
        "    if (i == 2 and (j == 0 or j == 4)) or ((i == 1 or i == 3) and (j == 1 or j == 3)) or ((i == 0 or i == 4) and (j == 2)): #рисуем полый ромб\n",
        "      B[i][j] = 1\n",
        "\n",
        "print(A)\n",
        "print(B)"
      ]
    },
    {
      "cell_type": "markdown",
      "source": [
        "14. Создать случайную матрицу 5x7 целых чисел от 1 до 100 и удалить [3,5] колонки"
      ],
      "metadata": {
        "id": "2gISyO8Tfg1-"
      }
    },
    {
      "cell_type": "code",
      "execution_count": null,
      "metadata": {
        "id": "8CNseuq6fg1-",
        "colab": {
          "base_uri": "https://localhost:8080/"
        },
        "outputId": "15b6f7b7-a17b-4915-821d-46172754c626"
      },
      "outputs": [
        {
          "output_type": "stream",
          "name": "stdout",
          "text": [
            "[[36 92 87 14 38 57 89]\n",
            " [29 33 26 26 64 85 12]\n",
            " [80 40 95 45 93 25 22]\n",
            " [56 18 70 74  7 60 26]\n",
            " [20 22 55 61 38 59 33]]\n",
            "[[36 92 14 57 89]\n",
            " [29 33 26 85 12]\n",
            " [80 40 45 25 22]\n",
            " [56 18 74 60 26]\n",
            " [20 22 61 59 33]]\n"
          ]
        }
      ],
      "source": [
        "A = np.random.randint(1, 100, [5, 7])\n",
        "print(A)\n",
        "A = np.delete(A, [2, 4], 1)\n",
        "print(A)"
      ]
    },
    {
      "cell_type": "markdown",
      "source": [
        "15. Вычислите [скользящее среднее](https://ru.wikipedia.org/wiki/%D0%A1%D0%BA%D0%BE%D0%BB%D1%8C%D0%B7%D1%8F%D1%89%D0%B0%D1%8F_%D1%81%D1%80%D0%B5%D0%B4%D0%BD%D1%8F%D1%8F) в окне ширины 3"
      ],
      "metadata": {
        "id": "DyFT6PjAfg3H"
      }
    },
    {
      "cell_type": "code",
      "execution_count": null,
      "metadata": {
        "id": "fbBZCGXrfg3H",
        "colab": {
          "base_uri": "https://localhost:8080/"
        },
        "outputId": "ae00d4f4-abba-40ea-ec29-346ce5fc5960"
      },
      "outputs": [
        {
          "output_type": "stream",
          "name": "stdout",
          "text": [
            "[2.33, 3.0, 3.33, 3.67, 4.0, 4.0, 4.33, 5.0, 6.0, 6.67, 7.33, 8.0, 8.67]\n"
          ]
        }
      ],
      "source": [
        "A = np.random.randint(1, 10, size = 15)\n",
        "A = np.sort(A)\n",
        "window = 3\n",
        "\n",
        "i = 0\n",
        "itog = []\n",
        "\n",
        "while i < len(A) - window + 1:\n",
        "    q = round(np.sum(A[i:i + window]) / window, 2)\n",
        "    itog.append(q)\n",
        "    i += 1\n",
        "\n",
        "print(itog)"
      ]
    }
  ]
}